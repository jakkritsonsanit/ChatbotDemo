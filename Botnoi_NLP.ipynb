{
 "cells": [
  {
   "cell_type": "markdown",
   "metadata": {
    "colab_type": "text",
    "id": "50h-0jAuMd9A"
   },
   "source": [
    "Analytic results from iBOTNOI www.botnoigroup.com"
   ]
  },
  {
   "cell_type": "code",
   "execution_count": 3,
   "metadata": {
    "colab": {
     "base_uri": "https://localhost:8080/",
     "height": 684
    },
    "colab_type": "code",
    "id": "vEXWlA_dJ-dW",
    "outputId": "882a5015-04e7-468c-d9dc-0879da241990"
   },
   "outputs": [
    {
     "name": "stdout",
     "output_type": "stream",
     "text": [
      "Requirement already satisfied: pythainlp in c:\\users\\kuliko\\anaconda3\\lib\\site-packages (2.1.2)\n",
      "Requirement already satisfied: tinydb>=3.0 in c:\\users\\kuliko\\anaconda3\\lib\\site-packages (from pythainlp) (3.15.2)\n",
      "Requirement already satisfied: dill>=0.3.0 in c:\\users\\kuliko\\anaconda3\\lib\\site-packages (from pythainlp) (0.3.1.1)\n",
      "Requirement already satisfied: tqdm>=4.1 in c:\\users\\kuliko\\anaconda3\\lib\\site-packages (from pythainlp) (4.36.1)\n",
      "Requirement already satisfied: nltk>=3.3 in c:\\users\\kuliko\\anaconda3\\lib\\site-packages (from pythainlp) (3.4.5)\n",
      "Requirement already satisfied: requests>=2.22.0 in c:\\users\\kuliko\\anaconda3\\lib\\site-packages (from pythainlp) (2.22.0)\n",
      "Requirement already satisfied: six in c:\\users\\kuliko\\anaconda3\\lib\\site-packages (from nltk>=3.3->pythainlp) (1.12.0)\n",
      "Requirement already satisfied: chardet<3.1.0,>=3.0.2 in c:\\users\\kuliko\\anaconda3\\lib\\site-packages (from requests>=2.22.0->pythainlp) (3.0.4)\n",
      "Requirement already satisfied: urllib3!=1.25.0,!=1.25.1,<1.26,>=1.21.1 in c:\\users\\kuliko\\anaconda3\\lib\\site-packages (from requests>=2.22.0->pythainlp) (1.24.2)\n",
      "Requirement already satisfied: certifi>=2017.4.17 in c:\\users\\kuliko\\anaconda3\\lib\\site-packages (from requests>=2.22.0->pythainlp) (2019.9.11)\n",
      "Requirement already satisfied: idna<2.9,>=2.5 in c:\\users\\kuliko\\anaconda3\\lib\\site-packages (from requests>=2.22.0->pythainlp) (2.8)\n"
     ]
    }
   ],
   "source": [
    "!pip install --upgrade -q pygsheets\n",
    "!pip install pythainlp"
   ]
  },
  {
   "cell_type": "markdown",
   "metadata": {
    "colab_type": "text",
    "id": "kh4c3W9sKp-5"
   },
   "source": []
  },
  {
   "cell_type": "code",
   "execution_count": 1,
   "metadata": {
    "colab": {},
    "colab_type": "code",
    "id": "903N8CKmL1OQ"
   },
   "outputs": [],
   "source": [
    "import pandas as pd\n",
    "import numpy as np\n",
    "import seaborn as sns"
   ]
  },
  {
   "cell_type": "markdown",
   "metadata": {
    "colab_type": "text",
    "id": "_QdXrcy1wTL4"
   },
   "source": [
    "# Dataset from \n",
    "https://docs.google.com/spreadsheets/d/1tOiz6S8tlc9zue8ZumUdw5-H75pAmjdWTqNjqLRF38c/edit?usp=sharing\n",
    "\n"
   ]
  },
  {
   "cell_type": "code",
   "execution_count": 7,
   "metadata": {
    "colab": {},
    "colab_type": "code",
    "id": "JFYGsLNf7Yvo"
   },
   "outputs": [],
   "source": [
    "xl = pd.ExcelFile('IT-KMITL-dataset.xlsx')\n",
    "dat = xl.parse(sheet_name='Sheet1')\n",
    "ansdat = xl.parse(sheet_name='Sheet2')"
   ]
  },
  {
   "cell_type": "code",
   "execution_count": 8,
   "metadata": {
    "colab": {
     "base_uri": "https://localhost:8080/",
     "height": 34
    },
    "colab_type": "code",
    "id": "AYJl-Vom-TOO",
    "outputId": "f5a4400b-ff32-4ed2-a621-78f898873e30"
   },
   "outputs": [
    {
     "data": {
      "text/plain": [
       "187"
      ]
     },
     "execution_count": 8,
     "metadata": {},
     "output_type": "execute_result"
    }
   ],
   "source": [
    "len(dat)"
   ]
  },
  {
   "cell_type": "code",
   "execution_count": 9,
   "metadata": {
    "colab": {
     "base_uri": "https://localhost:8080/",
     "height": 545
    },
    "colab_type": "code",
    "id": "654teckr-G3f",
    "outputId": "853e0a67-3eb6-4d80-c043-d247f843875d"
   },
   "outputs": [
    {
     "data": {
      "text/html": [
       "<div>\n",
       "<style scoped>\n",
       "    .dataframe tbody tr th:only-of-type {\n",
       "        vertical-align: middle;\n",
       "    }\n",
       "\n",
       "    .dataframe tbody tr th {\n",
       "        vertical-align: top;\n",
       "    }\n",
       "\n",
       "    .dataframe thead th {\n",
       "        text-align: right;\n",
       "    }\n",
       "</style>\n",
       "<table border=\"1\" class=\"dataframe\">\n",
       "  <thead>\n",
       "    <tr style=\"text-align: right;\">\n",
       "      <th></th>\n",
       "      <th>Keyword</th>\n",
       "    </tr>\n",
       "    <tr>\n",
       "      <th>Intent</th>\n",
       "      <th></th>\n",
       "    </tr>\n",
       "  </thead>\n",
       "  <tbody>\n",
       "    <tr>\n",
       "      <th>in_การทำความสะอาดรถ</th>\n",
       "      <td>5</td>\n",
       "    </tr>\n",
       "    <tr>\n",
       "      <th>in_ปอดเสียหายทุกคนหรือไม่</th>\n",
       "      <td>5</td>\n",
       "    </tr>\n",
       "    <tr>\n",
       "      <th>in_ความอันตรายของโควิด</th>\n",
       "      <td>8</td>\n",
       "    </tr>\n",
       "    <tr>\n",
       "      <th>in_อาการทั่วไปของโควิด</th>\n",
       "      <td>8</td>\n",
       "    </tr>\n",
       "    <tr>\n",
       "      <th>in_เป็นแล้วหายเองได้หรือไม่</th>\n",
       "      <td>8</td>\n",
       "    </tr>\n",
       "    <tr>\n",
       "      <th>in_แนะนำวิธีป้องกัน</th>\n",
       "      <td>10</td>\n",
       "    </tr>\n",
       "    <tr>\n",
       "      <th>in_การแพร่กระจายของโควิด</th>\n",
       "      <td>11</td>\n",
       "    </tr>\n",
       "    <tr>\n",
       "      <th>in_โควิดกับโรคทางเดินหายใจตะวันออก</th>\n",
       "      <td>11</td>\n",
       "    </tr>\n",
       "    <tr>\n",
       "      <th>in_การป้องกันไม่ให้เชื้อแพร่</th>\n",
       "      <td>15</td>\n",
       "    </tr>\n",
       "    <tr>\n",
       "      <th>in_ขนาดของโควิด</th>\n",
       "      <td>16</td>\n",
       "    </tr>\n",
       "    <tr>\n",
       "      <th>in_ข้อแนะนำในการนั่งรถสาธารณะ</th>\n",
       "      <td>16</td>\n",
       "    </tr>\n",
       "    <tr>\n",
       "      <th>in_ช่วงอายุกับการติดโรค</th>\n",
       "      <td>16</td>\n",
       "    </tr>\n",
       "    <tr>\n",
       "      <th>in_อาการโควิด</th>\n",
       "      <td>17</td>\n",
       "    </tr>\n",
       "    <tr>\n",
       "      <th>in_อัตราตายของโรค</th>\n",
       "      <td>19</td>\n",
       "    </tr>\n",
       "    <tr>\n",
       "      <th>in_จุดเริ่มต้นของโควิด</th>\n",
       "      <td>22</td>\n",
       "    </tr>\n",
       "  </tbody>\n",
       "</table>\n",
       "</div>"
      ],
      "text/plain": [
       "                                    Keyword\n",
       "Intent                                     \n",
       "in_การทำความสะอาดรถ                       5\n",
       "in_ปอดเสียหายทุกคนหรือไม่                 5\n",
       "in_ความอันตรายของโควิด                    8\n",
       "in_อาการทั่วไปของโควิด                    8\n",
       "in_เป็นแล้วหายเองได้หรือไม่               8\n",
       "in_แนะนำวิธีป้องกัน                      10\n",
       "in_การแพร่กระจายของโควิด                 11\n",
       "in_โควิดกับโรคทางเดินหายใจตะวันออก       11\n",
       "in_การป้องกันไม่ให้เชื้อแพร่             15\n",
       "in_ขนาดของโควิด                          16\n",
       "in_ข้อแนะนำในการนั่งรถสาธารณะ            16\n",
       "in_ช่วงอายุกับการติดโรค                  16\n",
       "in_อาการโควิด                            17\n",
       "in_อัตราตายของโรค                        19\n",
       "in_จุดเริ่มต้นของโควิด                   22"
      ]
     },
     "execution_count": 9,
     "metadata": {},
     "output_type": "execute_result"
    }
   ],
   "source": [
    "datstat = dat.groupby(by='Intent').count()\n",
    "datstat = datstat.sort_values(by='Keyword')\n",
    "datstat"
   ]
  },
  {
   "cell_type": "code",
   "execution_count": 0,
   "metadata": {
    "colab": {
     "base_uri": "https://localhost:8080/",
     "height": 419
    },
    "colab_type": "code",
    "id": "SDrx1W-N_R6B",
    "outputId": "c95a908a-a0f2-489b-d94a-b556602ec4a0"
   },
   "outputs": [
    {
     "data": {
      "text/html": [
       "<div>\n",
       "<style scoped>\n",
       "    .dataframe tbody tr th:only-of-type {\n",
       "        vertical-align: middle;\n",
       "    }\n",
       "\n",
       "    .dataframe tbody tr th {\n",
       "        vertical-align: top;\n",
       "    }\n",
       "\n",
       "    .dataframe thead th {\n",
       "        text-align: right;\n",
       "    }\n",
       "</style>\n",
       "<table border=\"1\" class=\"dataframe\">\n",
       "  <thead>\n",
       "    <tr style=\"text-align: right;\">\n",
       "      <th></th>\n",
       "      <th>Keyword</th>\n",
       "      <th>Intent</th>\n",
       "    </tr>\n",
       "  </thead>\n",
       "  <tbody>\n",
       "    <tr>\n",
       "      <th>113</th>\n",
       "      <td>ทุกคนมีโอกาสที่จะติดเชื้อในอัตราที่เท่ากันหรือไม่</td>\n",
       "      <td>in_ช่วงอายุกับการติดโรค</td>\n",
       "    </tr>\n",
       "    <tr>\n",
       "      <th>18</th>\n",
       "      <td>มันอันตรายถึงขั้นไหน</td>\n",
       "      <td>in_ความอันตรายของโควิด</td>\n",
       "    </tr>\n",
       "    <tr>\n",
       "      <th>86</th>\n",
       "      <td>พบโควิดที่แรก คือที่ไหนอะ</td>\n",
       "      <td>in_จุดเริ่มต้นของโควิด</td>\n",
       "    </tr>\n",
       "    <tr>\n",
       "      <th>70</th>\n",
       "      <td>มีวิธีที่ไม่ให้เชื้อแพร่ไปไหม</td>\n",
       "      <td>in_การป้องกันไม่ให้เชื้อแพร่</td>\n",
       "    </tr>\n",
       "    <tr>\n",
       "      <th>144</th>\n",
       "      <td>ป้องกันอย่างไรเมื่อต้องใช้รถโดยสาร</td>\n",
       "      <td>in_ข้อแนะนำในการนั่งรถสาธารณะ</td>\n",
       "    </tr>\n",
       "    <tr>\n",
       "      <th>...</th>\n",
       "      <td>...</td>\n",
       "      <td>...</td>\n",
       "    </tr>\n",
       "    <tr>\n",
       "      <th>120</th>\n",
       "      <td>ช่วงอายุมีผลต่อการติดเชื้อไหมครับ</td>\n",
       "      <td>in_ช่วงอายุกับการติดโรค</td>\n",
       "    </tr>\n",
       "    <tr>\n",
       "      <th>46</th>\n",
       "      <td>การระบาดของโควิด</td>\n",
       "      <td>in_การแพร่กระจายของโควิด</td>\n",
       "    </tr>\n",
       "    <tr>\n",
       "      <th>131</th>\n",
       "      <td>วิธีป้องกันเมื่อต้องใช้รถสาธารณะ</td>\n",
       "      <td>in_ข้อแนะนำในการนั่งรถสาธารณะ</td>\n",
       "    </tr>\n",
       "    <tr>\n",
       "      <th>137</th>\n",
       "      <td>ใช้รถสาธารณะอย่างปลอดภัย</td>\n",
       "      <td>in_ข้อแนะนำในการนั่งรถสาธารณะ</td>\n",
       "    </tr>\n",
       "    <tr>\n",
       "      <th>51</th>\n",
       "      <td>ไวรัสตัวนี้แพร่กระจายทางไหน</td>\n",
       "      <td>in_การแพร่กระจายของโควิด</td>\n",
       "    </tr>\n",
       "  </tbody>\n",
       "</table>\n",
       "<p>187 rows × 2 columns</p>\n",
       "</div>"
      ],
      "text/plain": [
       "                                               Keyword                         Intent\n",
       "113  ทุกคนมีโอกาสที่จะติดเชื้อในอัตราที่เท่ากันหรือไม่        in_ช่วงอายุกับการติดโรค\n",
       "18                                มันอันตรายถึงขั้นไหน         in_ความอันตรายของโควิด\n",
       "86                           พบโควิดที่แรก คือที่ไหนอะ         in_จุดเริ่มต้นของโควิด\n",
       "70                       มีวิธีที่ไม่ให้เชื้อแพร่ไปไหม   in_การป้องกันไม่ให้เชื้อแพร่\n",
       "144                 ป้องกันอย่างไรเมื่อต้องใช้รถโดยสาร  in_ข้อแนะนำในการนั่งรถสาธารณะ\n",
       "..                                                 ...                            ...\n",
       "120                  ช่วงอายุมีผลต่อการติดเชื้อไหมครับ        in_ช่วงอายุกับการติดโรค\n",
       "46                                    การระบาดของโควิด       in_การแพร่กระจายของโควิด\n",
       "131                   วิธีป้องกันเมื่อต้องใช้รถสาธารณะ  in_ข้อแนะนำในการนั่งรถสาธารณะ\n",
       "137                           ใช้รถสาธารณะอย่างปลอดภัย  in_ข้อแนะนำในการนั่งรถสาธารณะ\n",
       "51                         ไวรัสตัวนี้แพร่กระจายทางไหน       in_การแพร่กระจายของโควิด\n",
       "\n",
       "[187 rows x 2 columns]"
      ]
     },
     "execution_count": 14,
     "metadata": {
      "tags": []
     },
     "output_type": "execute_result"
    }
   ],
   "source": []
  },
  {
   "cell_type": "code",
   "execution_count": 10,
   "metadata": {
    "colab": {},
    "colab_type": "code",
    "id": "3oTGdEulABa_"
   },
   "outputs": [],
   "source": [
    "def splittraintest(dat,trainratio=0.7):\n",
    "    sdat = dat.sample(frac=1,random_state=0)\n",
    "    ntrain = int(len(dat)*trainratio)\n",
    "    traindat = sdat.iloc[0:ntrain]\n",
    "    testdat = sdat.iloc[ntrain:]\n",
    "    return traindat,testdat"
   ]
  },
  {
   "cell_type": "code",
   "execution_count": 11,
   "metadata": {
    "colab": {
     "base_uri": "https://localhost:8080/",
     "height": 419
    },
    "colab_type": "code",
    "id": "ek-gZj35AyLt",
    "outputId": "ec423918-8082-4d00-e674-753b96769d07"
   },
   "outputs": [
    {
     "data": {
      "text/html": [
       "<div>\n",
       "<style scoped>\n",
       "    .dataframe tbody tr th:only-of-type {\n",
       "        vertical-align: middle;\n",
       "    }\n",
       "\n",
       "    .dataframe tbody tr th {\n",
       "        vertical-align: top;\n",
       "    }\n",
       "\n",
       "    .dataframe thead th {\n",
       "        text-align: right;\n",
       "    }\n",
       "</style>\n",
       "<table border=\"1\" class=\"dataframe\">\n",
       "  <thead>\n",
       "    <tr style=\"text-align: right;\">\n",
       "      <th></th>\n",
       "      <th>Keyword</th>\n",
       "      <th>Intent</th>\n",
       "    </tr>\n",
       "  </thead>\n",
       "  <tbody>\n",
       "    <tr>\n",
       "      <th>107</th>\n",
       "      <td>คนที่เป็นโรคนี้ จะมีอาการยังไง</td>\n",
       "      <td>in_อาการทั่วไปของโควิด</td>\n",
       "    </tr>\n",
       "    <tr>\n",
       "      <th>45</th>\n",
       "      <td>มันสามารถแพร่ได้ทางไหน</td>\n",
       "      <td>in_การแพร่กระจายของโควิด</td>\n",
       "    </tr>\n",
       "    <tr>\n",
       "      <th>159</th>\n",
       "      <td>อยากรู้ว่าถ้าติดเชื้อโคโรน่าแล้วจะตายไหม</td>\n",
       "      <td>in_อัตราตายของโรค</td>\n",
       "    </tr>\n",
       "    <tr>\n",
       "      <th>63</th>\n",
       "      <td>สามารถป้องกันยังไง หากมีอาการ</td>\n",
       "      <td>in_การป้องกันไม่ให้เชื้อแพร่</td>\n",
       "    </tr>\n",
       "    <tr>\n",
       "      <th>122</th>\n",
       "      <td>โควิดสามารถแพร่ไปยังคนช่วงอายุใดมากสุด</td>\n",
       "      <td>in_ช่วงอายุกับการติดโรค</td>\n",
       "    </tr>\n",
       "    <tr>\n",
       "      <th>...</th>\n",
       "      <td>...</td>\n",
       "      <td>...</td>\n",
       "    </tr>\n",
       "    <tr>\n",
       "      <th>14</th>\n",
       "      <td>อาการต่างๆของผู้ที่ติดเชื้อ</td>\n",
       "      <td>in_อาการโควิด</td>\n",
       "    </tr>\n",
       "    <tr>\n",
       "      <th>0</th>\n",
       "      <td>อาการของโรคนี้</td>\n",
       "      <td>in_อาการโควิด</td>\n",
       "    </tr>\n",
       "    <tr>\n",
       "      <th>91</th>\n",
       "      <td>จุดกำเนิดของโรคนี้มาจากไหน</td>\n",
       "      <td>in_จุดเริ่มต้นของโควิด</td>\n",
       "    </tr>\n",
       "    <tr>\n",
       "      <th>161</th>\n",
       "      <td>ถ้าเป็นโควิดมีโอกาสเสียชีวิตไหม</td>\n",
       "      <td>in_อัตราตายของโรค</td>\n",
       "    </tr>\n",
       "    <tr>\n",
       "      <th>11</th>\n",
       "      <td>อาการของคนที่เป็นโรคนี้</td>\n",
       "      <td>in_อาการโควิด</td>\n",
       "    </tr>\n",
       "  </tbody>\n",
       "</table>\n",
       "<p>130 rows × 2 columns</p>\n",
       "</div>"
      ],
      "text/plain": [
       "                                      Keyword                        Intent\n",
       "107            คนที่เป็นโรคนี้ จะมีอาการยังไง        in_อาการทั่วไปของโควิด\n",
       "45                     มันสามารถแพร่ได้ทางไหน      in_การแพร่กระจายของโควิด\n",
       "159  อยากรู้ว่าถ้าติดเชื้อโคโรน่าแล้วจะตายไหม             in_อัตราตายของโรค\n",
       "63              สามารถป้องกันยังไง หากมีอาการ  in_การป้องกันไม่ให้เชื้อแพร่\n",
       "122    โควิดสามารถแพร่ไปยังคนช่วงอายุใดมากสุด       in_ช่วงอายุกับการติดโรค\n",
       "..                                        ...                           ...\n",
       "14                อาการต่างๆของผู้ที่ติดเชื้อ                 in_อาการโควิด\n",
       "0                              อาการของโรคนี้                 in_อาการโควิด\n",
       "91                 จุดกำเนิดของโรคนี้มาจากไหน        in_จุดเริ่มต้นของโควิด\n",
       "161           ถ้าเป็นโควิดมีโอกาสเสียชีวิตไหม             in_อัตราตายของโรค\n",
       "11                    อาการของคนที่เป็นโรคนี้                 in_อาการโควิด\n",
       "\n",
       "[130 rows x 2 columns]"
      ]
     },
     "execution_count": 11,
     "metadata": {},
     "output_type": "execute_result"
    }
   ],
   "source": [
    "trdat,tedat = splittraintest(dat)\n",
    "trdat"
   ]
  },
  {
   "cell_type": "code",
   "execution_count": 13,
   "metadata": {
    "colab": {
     "base_uri": "https://localhost:8080/",
     "height": 459
    },
    "colab_type": "code",
    "id": "fCppzTiy-ogi",
    "outputId": "ac9d8a45-646b-43be-f404-cf2480274f63"
   },
   "outputs": [
    {
     "data": {
      "text/plain": [
       "['สวัสดี',\n",
       " 'ครับ',\n",
       " 'คุณ',\n",
       " 'ชื่อ',\n",
       " 'อะไร',\n",
       " 'ส',\n",
       " 'ว',\n",
       " 'ั',\n",
       " 'ส',\n",
       " 'ด',\n",
       " 'ี',\n",
       " 'ค',\n",
       " 'ร',\n",
       " 'ั',\n",
       " 'บ',\n",
       " 'ค',\n",
       " 'ุ',\n",
       " 'ณ',\n",
       " 'ช',\n",
       " 'ื',\n",
       " '่',\n",
       " 'อ',\n",
       " 'อ',\n",
       " 'ะ',\n",
       " 'ไ',\n",
       " 'ร']"
      ]
     },
     "execution_count": 13,
     "metadata": {},
     "output_type": "execute_result"
    }
   ],
   "source": [
    "from pythainlp import word_tokenize\n",
    "def get_wd_tokens(text):\n",
    "    tokens = word_tokenize(text)\n",
    "    return tokens\n",
    "def get_cr_tokens(text):\n",
    "    tokens = list(text)\n",
    "    return tokens\n",
    "def get_wo_cr_tokens(text):\n",
    "    tokens = get_wd_tokens(text) + get_cr_tokens(text)\n",
    "    return tokens\n",
    "get_wo_cr_tokens('สวัสดีครับคุณชื่ออะไร')"
   ]
  },
  {
   "cell_type": "code",
   "execution_count": 15,
   "metadata": {},
   "outputs": [
    {
     "data": {
      "text/plain": [
       "['สวัสดี', 'ครับ', 'คุณ', 'ชื่อ', 'อะไร']"
      ]
     },
     "execution_count": 15,
     "metadata": {},
     "output_type": "execute_result"
    }
   ],
   "source": [
    "text = 'สวัสดีครับคุณชื่ออะไร'\n",
    "get_wd_tokens(text)"
   ]
  },
  {
   "cell_type": "code",
   "execution_count": 16,
   "metadata": {},
   "outputs": [
    {
     "data": {
      "text/plain": [
       "['ส',\n",
       " 'ว',\n",
       " 'ั',\n",
       " 'ส',\n",
       " 'ด',\n",
       " 'ี',\n",
       " 'ค',\n",
       " 'ร',\n",
       " 'ั',\n",
       " 'บ',\n",
       " 'ค',\n",
       " 'ุ',\n",
       " 'ณ',\n",
       " 'ช',\n",
       " 'ื',\n",
       " '่',\n",
       " 'อ',\n",
       " 'อ',\n",
       " 'ะ',\n",
       " 'ไ',\n",
       " 'ร']"
      ]
     },
     "execution_count": 16,
     "metadata": {},
     "output_type": "execute_result"
    }
   ],
   "source": [
    "list(text)"
   ]
  },
  {
   "cell_type": "code",
   "execution_count": 17,
   "metadata": {
    "colab": {},
    "colab_type": "code",
    "id": "7F2Vl6c3Bd1s"
   },
   "outputs": [],
   "source": [
    "from sklearn.feature_extraction.text import CountVectorizer, TfidfVectorizer"
   ]
  },
  {
   "cell_type": "code",
   "execution_count": 18,
   "metadata": {
    "colab": {
     "base_uri": "https://localhost:8080/",
     "height": 207
    },
    "colab_type": "code",
    "id": "7iF2nE1D_Nnn",
    "outputId": "9f460a62-6d96-44c1-9ca8-26bbea9dc849"
   },
   "outputs": [
    {
     "name": "stderr",
     "output_type": "stream",
     "text": [
      "C:\\Users\\Kuliko\\anaconda3\\lib\\site-packages\\sklearn\\feature_extraction\\text.py:507: UserWarning: The parameter 'token_pattern' will not be used since 'tokenizer' is not None'\n",
      "  warnings.warn(\"The parameter 'token_pattern' will not be used\"\n"
     ]
    },
    {
     "data": {
      "text/plain": [
       "TfidfVectorizer(analyzer='word', binary=False, decode_error='strict',\n",
       "                dtype=<class 'numpy.float64'>, encoding='utf-8',\n",
       "                input='content', lowercase=True, max_df=1.0, max_features=None,\n",
       "                min_df=1, ngram_range=(1, 3), norm='l2', preprocessor=None,\n",
       "                smooth_idf=True, stop_words=None, strip_accents=None,\n",
       "                sublinear_tf=False, token_pattern='(?u)\\\\b\\\\w\\\\w+\\\\b',\n",
       "                tokenizer=<function get_wo_cr_tokens at 0x000001D344564708>,\n",
       "                use_idf=True, vocabulary=None)"
      ]
     },
     "execution_count": 18,
     "metadata": {},
     "output_type": "execute_result"
    }
   ],
   "source": [
    "trkeyword = trdat['Keyword'].values\n",
    "vectorizer = TfidfVectorizer(tokenizer=get_wo_cr_tokens, ngram_range=(1,3))\n",
    "vectorizer.fit(trkeyword)"
   ]
  },
  {
   "cell_type": "code",
   "execution_count": 19,
   "metadata": {
    "colab": {
     "base_uri": "https://localhost:8080/",
     "height": 51
    },
    "colab_type": "code",
    "id": "5ODCGaV2CjCI",
    "outputId": "313d3714-05f0-4b0d-d9d3-32fbfc1f6670"
   },
   "outputs": [
    {
     "data": {
      "text/plain": [
       "<57x3092 sparse matrix of type '<class 'numpy.float64'>'\n",
       "\twith 4323 stored elements in Compressed Sparse Row format>"
      ]
     },
     "execution_count": 19,
     "metadata": {},
     "output_type": "execute_result"
    }
   ],
   "source": [
    "tekeyword = tedat['Keyword'].values\n",
    "trfeat = vectorizer.transform(trkeyword)\n",
    "tefeat = vectorizer.transform(tekeyword)\n",
    "tefeat"
   ]
  },
  {
   "cell_type": "code",
   "execution_count": 24,
   "metadata": {
    "colab": {},
    "colab_type": "code",
    "id": "UrkXziKvC3lT"
   },
   "outputs": [],
   "source": [
    "trlabel = trdat['Intent'].values\n",
    "telabel = tedat['Intent'].values\n",
    "from sklearn.svm import LinearSVC\n",
    "from sklearn.preprocessing import normalize\n",
    "trfeat_norm = normalize(trfeat)\n",
    "tefeat_norm = normalize(tefeat)\n",
    "model = LinearSVC(random_state=0)\n",
    "model.fit(trfeat_norm, trlabel)\n",
    "pred = model.predict(tefeat_norm)\n"
   ]
  },
  {
   "cell_type": "code",
   "execution_count": 25,
   "metadata": {
    "colab": {},
    "colab_type": "code",
    "id": "5TeP089wDc4i"
   },
   "outputs": [],
   "source": [
    "def accuracy_cal(gt,pred):\n",
    "    return sum(gt==pred)/len(gt)"
   ]
  },
  {
   "cell_type": "code",
   "execution_count": 26,
   "metadata": {
    "colab": {
     "base_uri": "https://localhost:8080/",
     "height": 34
    },
    "colab_type": "code",
    "id": "-5LUyePRD5-E",
    "outputId": "029bcfaf-faf6-4133-dbca-190c42218ac7"
   },
   "outputs": [
    {
     "data": {
      "text/plain": [
       "0.8947368421052632"
      ]
     },
     "execution_count": 26,
     "metadata": {},
     "output_type": "execute_result"
    }
   ],
   "source": [
    "accuracy_cal(telabel,pred)"
   ]
  },
  {
   "cell_type": "code",
   "execution_count": 27,
   "metadata": {
    "colab": {
     "base_uri": "https://localhost:8080/",
     "height": 1000
    },
    "colab_type": "code",
    "id": "Hz2jVQRHE8hi",
    "outputId": "7a2b5dc1-e3dc-4fd4-ba05-023ed6f103f9"
   },
   "outputs": [
    {
     "data": {
      "text/html": [
       "<div>\n",
       "<style scoped>\n",
       "    .dataframe tbody tr th:only-of-type {\n",
       "        vertical-align: middle;\n",
       "    }\n",
       "\n",
       "    .dataframe tbody tr th {\n",
       "        vertical-align: top;\n",
       "    }\n",
       "\n",
       "    .dataframe thead th {\n",
       "        text-align: right;\n",
       "    }\n",
       "</style>\n",
       "<table border=\"1\" class=\"dataframe\">\n",
       "  <thead>\n",
       "    <tr style=\"text-align: right;\">\n",
       "      <th></th>\n",
       "      <th>in_อาการทั่วไปของโควิด</th>\n",
       "      <th>in_ปอดเสียหายทุกคนหรือไม่</th>\n",
       "      <th>in_เป็นแล้วหายเองได้หรือไม่</th>\n",
       "      <th>in_อาการโควิด</th>\n",
       "      <th>in_ความอันตรายของโควิด</th>\n",
       "      <th>in_ขนาดของโควิด</th>\n",
       "      <th>in_จุดเริ่มต้นของโควิด</th>\n",
       "      <th>in_การป้องกันไม่ให้เชื้อแพร่</th>\n",
       "      <th>in_ช่วงอายุกับการติดโรค</th>\n",
       "      <th>in_โควิดกับโรคทางเดินหายใจตะวันออก</th>\n",
       "      <th>in_การทำความสะอาดรถ</th>\n",
       "      <th>in_การแพร่กระจายของโควิด</th>\n",
       "      <th>in_อัตราตายของโรค</th>\n",
       "      <th>in_ข้อแนะนำในการนั่งรถสาธารณะ</th>\n",
       "      <th>in_แนะนำวิธีป้องกัน</th>\n",
       "    </tr>\n",
       "  </thead>\n",
       "  <tbody>\n",
       "    <tr>\n",
       "      <th>in_อาการทั่วไปของโควิด</th>\n",
       "      <td>0</td>\n",
       "      <td>0</td>\n",
       "      <td>0</td>\n",
       "      <td>1</td>\n",
       "      <td>0</td>\n",
       "      <td>0</td>\n",
       "      <td>0</td>\n",
       "      <td>0</td>\n",
       "      <td>0</td>\n",
       "      <td>0</td>\n",
       "      <td>0</td>\n",
       "      <td>0</td>\n",
       "      <td>0</td>\n",
       "      <td>0</td>\n",
       "      <td>0</td>\n",
       "    </tr>\n",
       "    <tr>\n",
       "      <th>in_ปอดเสียหายทุกคนหรือไม่</th>\n",
       "      <td>0</td>\n",
       "      <td>2</td>\n",
       "      <td>0</td>\n",
       "      <td>0</td>\n",
       "      <td>0</td>\n",
       "      <td>0</td>\n",
       "      <td>0</td>\n",
       "      <td>0</td>\n",
       "      <td>0</td>\n",
       "      <td>0</td>\n",
       "      <td>0</td>\n",
       "      <td>0</td>\n",
       "      <td>0</td>\n",
       "      <td>0</td>\n",
       "      <td>0</td>\n",
       "    </tr>\n",
       "    <tr>\n",
       "      <th>in_เป็นแล้วหายเองได้หรือไม่</th>\n",
       "      <td>0</td>\n",
       "      <td>0</td>\n",
       "      <td>3</td>\n",
       "      <td>0</td>\n",
       "      <td>0</td>\n",
       "      <td>0</td>\n",
       "      <td>0</td>\n",
       "      <td>0</td>\n",
       "      <td>0</td>\n",
       "      <td>0</td>\n",
       "      <td>0</td>\n",
       "      <td>0</td>\n",
       "      <td>0</td>\n",
       "      <td>0</td>\n",
       "      <td>0</td>\n",
       "    </tr>\n",
       "    <tr>\n",
       "      <th>in_อาการโควิด</th>\n",
       "      <td>0</td>\n",
       "      <td>0</td>\n",
       "      <td>0</td>\n",
       "      <td>2</td>\n",
       "      <td>0</td>\n",
       "      <td>0</td>\n",
       "      <td>0</td>\n",
       "      <td>0</td>\n",
       "      <td>0</td>\n",
       "      <td>0</td>\n",
       "      <td>0</td>\n",
       "      <td>0</td>\n",
       "      <td>0</td>\n",
       "      <td>0</td>\n",
       "      <td>0</td>\n",
       "    </tr>\n",
       "    <tr>\n",
       "      <th>in_ความอันตรายของโควิด</th>\n",
       "      <td>0</td>\n",
       "      <td>0</td>\n",
       "      <td>0</td>\n",
       "      <td>0</td>\n",
       "      <td>2</td>\n",
       "      <td>0</td>\n",
       "      <td>0</td>\n",
       "      <td>0</td>\n",
       "      <td>0</td>\n",
       "      <td>0</td>\n",
       "      <td>0</td>\n",
       "      <td>0</td>\n",
       "      <td>0</td>\n",
       "      <td>0</td>\n",
       "      <td>0</td>\n",
       "    </tr>\n",
       "    <tr>\n",
       "      <th>in_ขนาดของโควิด</th>\n",
       "      <td>0</td>\n",
       "      <td>0</td>\n",
       "      <td>0</td>\n",
       "      <td>0</td>\n",
       "      <td>1</td>\n",
       "      <td>9</td>\n",
       "      <td>0</td>\n",
       "      <td>0</td>\n",
       "      <td>0</td>\n",
       "      <td>0</td>\n",
       "      <td>0</td>\n",
       "      <td>0</td>\n",
       "      <td>0</td>\n",
       "      <td>0</td>\n",
       "      <td>0</td>\n",
       "    </tr>\n",
       "    <tr>\n",
       "      <th>in_จุดเริ่มต้นของโควิด</th>\n",
       "      <td>0</td>\n",
       "      <td>0</td>\n",
       "      <td>0</td>\n",
       "      <td>1</td>\n",
       "      <td>0</td>\n",
       "      <td>0</td>\n",
       "      <td>6</td>\n",
       "      <td>0</td>\n",
       "      <td>0</td>\n",
       "      <td>0</td>\n",
       "      <td>0</td>\n",
       "      <td>0</td>\n",
       "      <td>0</td>\n",
       "      <td>0</td>\n",
       "      <td>0</td>\n",
       "    </tr>\n",
       "    <tr>\n",
       "      <th>in_การป้องกันไม่ให้เชื้อแพร่</th>\n",
       "      <td>0</td>\n",
       "      <td>0</td>\n",
       "      <td>0</td>\n",
       "      <td>0</td>\n",
       "      <td>0</td>\n",
       "      <td>0</td>\n",
       "      <td>0</td>\n",
       "      <td>4</td>\n",
       "      <td>0</td>\n",
       "      <td>0</td>\n",
       "      <td>0</td>\n",
       "      <td>0</td>\n",
       "      <td>0</td>\n",
       "      <td>0</td>\n",
       "      <td>1</td>\n",
       "    </tr>\n",
       "    <tr>\n",
       "      <th>in_ช่วงอายุกับการติดโรค</th>\n",
       "      <td>0</td>\n",
       "      <td>0</td>\n",
       "      <td>0</td>\n",
       "      <td>0</td>\n",
       "      <td>0</td>\n",
       "      <td>0</td>\n",
       "      <td>0</td>\n",
       "      <td>0</td>\n",
       "      <td>7</td>\n",
       "      <td>0</td>\n",
       "      <td>0</td>\n",
       "      <td>0</td>\n",
       "      <td>0</td>\n",
       "      <td>0</td>\n",
       "      <td>0</td>\n",
       "    </tr>\n",
       "    <tr>\n",
       "      <th>in_โควิดกับโรคทางเดินหายใจตะวันออก</th>\n",
       "      <td>0</td>\n",
       "      <td>0</td>\n",
       "      <td>0</td>\n",
       "      <td>0</td>\n",
       "      <td>0</td>\n",
       "      <td>0</td>\n",
       "      <td>0</td>\n",
       "      <td>0</td>\n",
       "      <td>0</td>\n",
       "      <td>3</td>\n",
       "      <td>0</td>\n",
       "      <td>0</td>\n",
       "      <td>0</td>\n",
       "      <td>0</td>\n",
       "      <td>0</td>\n",
       "    </tr>\n",
       "    <tr>\n",
       "      <th>in_การทำความสะอาดรถ</th>\n",
       "      <td>0</td>\n",
       "      <td>0</td>\n",
       "      <td>0</td>\n",
       "      <td>0</td>\n",
       "      <td>0</td>\n",
       "      <td>0</td>\n",
       "      <td>0</td>\n",
       "      <td>0</td>\n",
       "      <td>0</td>\n",
       "      <td>0</td>\n",
       "      <td>1</td>\n",
       "      <td>0</td>\n",
       "      <td>0</td>\n",
       "      <td>0</td>\n",
       "      <td>0</td>\n",
       "    </tr>\n",
       "    <tr>\n",
       "      <th>in_การแพร่กระจายของโควิด</th>\n",
       "      <td>0</td>\n",
       "      <td>0</td>\n",
       "      <td>0</td>\n",
       "      <td>0</td>\n",
       "      <td>0</td>\n",
       "      <td>0</td>\n",
       "      <td>0</td>\n",
       "      <td>0</td>\n",
       "      <td>0</td>\n",
       "      <td>0</td>\n",
       "      <td>0</td>\n",
       "      <td>2</td>\n",
       "      <td>0</td>\n",
       "      <td>0</td>\n",
       "      <td>0</td>\n",
       "    </tr>\n",
       "    <tr>\n",
       "      <th>in_อัตราตายของโรค</th>\n",
       "      <td>0</td>\n",
       "      <td>0</td>\n",
       "      <td>0</td>\n",
       "      <td>0</td>\n",
       "      <td>0</td>\n",
       "      <td>0</td>\n",
       "      <td>0</td>\n",
       "      <td>0</td>\n",
       "      <td>0</td>\n",
       "      <td>0</td>\n",
       "      <td>0</td>\n",
       "      <td>0</td>\n",
       "      <td>6</td>\n",
       "      <td>0</td>\n",
       "      <td>0</td>\n",
       "    </tr>\n",
       "    <tr>\n",
       "      <th>in_ข้อแนะนำในการนั่งรถสาธารณะ</th>\n",
       "      <td>0</td>\n",
       "      <td>0</td>\n",
       "      <td>0</td>\n",
       "      <td>0</td>\n",
       "      <td>0</td>\n",
       "      <td>0</td>\n",
       "      <td>0</td>\n",
       "      <td>2</td>\n",
       "      <td>0</td>\n",
       "      <td>0</td>\n",
       "      <td>0</td>\n",
       "      <td>0</td>\n",
       "      <td>0</td>\n",
       "      <td>2</td>\n",
       "      <td>0</td>\n",
       "    </tr>\n",
       "    <tr>\n",
       "      <th>in_แนะนำวิธีป้องกัน</th>\n",
       "      <td>0</td>\n",
       "      <td>0</td>\n",
       "      <td>0</td>\n",
       "      <td>0</td>\n",
       "      <td>0</td>\n",
       "      <td>0</td>\n",
       "      <td>0</td>\n",
       "      <td>0</td>\n",
       "      <td>0</td>\n",
       "      <td>0</td>\n",
       "      <td>0</td>\n",
       "      <td>0</td>\n",
       "      <td>0</td>\n",
       "      <td>0</td>\n",
       "      <td>2</td>\n",
       "    </tr>\n",
       "  </tbody>\n",
       "</table>\n",
       "</div>"
      ],
      "text/plain": [
       "                                    in_อาการทั่วไปของโควิด  \\\n",
       "in_อาการทั่วไปของโควิด                                   0   \n",
       "in_ปอดเสียหายทุกคนหรือไม่                                0   \n",
       "in_เป็นแล้วหายเองได้หรือไม่                              0   \n",
       "in_อาการโควิด                                            0   \n",
       "in_ความอันตรายของโควิด                                   0   \n",
       "in_ขนาดของโควิด                                          0   \n",
       "in_จุดเริ่มต้นของโควิด                                   0   \n",
       "in_การป้องกันไม่ให้เชื้อแพร่                             0   \n",
       "in_ช่วงอายุกับการติดโรค                                  0   \n",
       "in_โควิดกับโรคทางเดินหายใจตะวันออก                       0   \n",
       "in_การทำความสะอาดรถ                                      0   \n",
       "in_การแพร่กระจายของโควิด                                 0   \n",
       "in_อัตราตายของโรค                                        0   \n",
       "in_ข้อแนะนำในการนั่งรถสาธารณะ                            0   \n",
       "in_แนะนำวิธีป้องกัน                                      0   \n",
       "\n",
       "                                    in_ปอดเสียหายทุกคนหรือไม่  \\\n",
       "in_อาการทั่วไปของโควิด                                      0   \n",
       "in_ปอดเสียหายทุกคนหรือไม่                                   2   \n",
       "in_เป็นแล้วหายเองได้หรือไม่                                 0   \n",
       "in_อาการโควิด                                               0   \n",
       "in_ความอันตรายของโควิด                                      0   \n",
       "in_ขนาดของโควิด                                             0   \n",
       "in_จุดเริ่มต้นของโควิด                                      0   \n",
       "in_การป้องกันไม่ให้เชื้อแพร่                                0   \n",
       "in_ช่วงอายุกับการติดโรค                                     0   \n",
       "in_โควิดกับโรคทางเดินหายใจตะวันออก                          0   \n",
       "in_การทำความสะอาดรถ                                         0   \n",
       "in_การแพร่กระจายของโควิด                                    0   \n",
       "in_อัตราตายของโรค                                           0   \n",
       "in_ข้อแนะนำในการนั่งรถสาธารณะ                               0   \n",
       "in_แนะนำวิธีป้องกัน                                         0   \n",
       "\n",
       "                                    in_เป็นแล้วหายเองได้หรือไม่  \\\n",
       "in_อาการทั่วไปของโควิด                                        0   \n",
       "in_ปอดเสียหายทุกคนหรือไม่                                     0   \n",
       "in_เป็นแล้วหายเองได้หรือไม่                                   3   \n",
       "in_อาการโควิด                                                 0   \n",
       "in_ความอันตรายของโควิด                                        0   \n",
       "in_ขนาดของโควิด                                               0   \n",
       "in_จุดเริ่มต้นของโควิด                                        0   \n",
       "in_การป้องกันไม่ให้เชื้อแพร่                                  0   \n",
       "in_ช่วงอายุกับการติดโรค                                       0   \n",
       "in_โควิดกับโรคทางเดินหายใจตะวันออก                            0   \n",
       "in_การทำความสะอาดรถ                                           0   \n",
       "in_การแพร่กระจายของโควิด                                      0   \n",
       "in_อัตราตายของโรค                                             0   \n",
       "in_ข้อแนะนำในการนั่งรถสาธารณะ                                 0   \n",
       "in_แนะนำวิธีป้องกัน                                           0   \n",
       "\n",
       "                                    in_อาการโควิด  in_ความอันตรายของโควิด  \\\n",
       "in_อาการทั่วไปของโควิด                          1                       0   \n",
       "in_ปอดเสียหายทุกคนหรือไม่                       0                       0   \n",
       "in_เป็นแล้วหายเองได้หรือไม่                     0                       0   \n",
       "in_อาการโควิด                                   2                       0   \n",
       "in_ความอันตรายของโควิด                          0                       2   \n",
       "in_ขนาดของโควิด                                 0                       1   \n",
       "in_จุดเริ่มต้นของโควิด                          1                       0   \n",
       "in_การป้องกันไม่ให้เชื้อแพร่                    0                       0   \n",
       "in_ช่วงอายุกับการติดโรค                         0                       0   \n",
       "in_โควิดกับโรคทางเดินหายใจตะวันออก              0                       0   \n",
       "in_การทำความสะอาดรถ                             0                       0   \n",
       "in_การแพร่กระจายของโควิด                        0                       0   \n",
       "in_อัตราตายของโรค                               0                       0   \n",
       "in_ข้อแนะนำในการนั่งรถสาธารณะ                   0                       0   \n",
       "in_แนะนำวิธีป้องกัน                             0                       0   \n",
       "\n",
       "                                    in_ขนาดของโควิด  in_จุดเริ่มต้นของโควิด  \\\n",
       "in_อาการทั่วไปของโควิด                            0                       0   \n",
       "in_ปอดเสียหายทุกคนหรือไม่                         0                       0   \n",
       "in_เป็นแล้วหายเองได้หรือไม่                       0                       0   \n",
       "in_อาการโควิด                                     0                       0   \n",
       "in_ความอันตรายของโควิด                            0                       0   \n",
       "in_ขนาดของโควิด                                   9                       0   \n",
       "in_จุดเริ่มต้นของโควิด                            0                       6   \n",
       "in_การป้องกันไม่ให้เชื้อแพร่                      0                       0   \n",
       "in_ช่วงอายุกับการติดโรค                           0                       0   \n",
       "in_โควิดกับโรคทางเดินหายใจตะวันออก                0                       0   \n",
       "in_การทำความสะอาดรถ                               0                       0   \n",
       "in_การแพร่กระจายของโควิด                          0                       0   \n",
       "in_อัตราตายของโรค                                 0                       0   \n",
       "in_ข้อแนะนำในการนั่งรถสาธารณะ                     0                       0   \n",
       "in_แนะนำวิธีป้องกัน                               0                       0   \n",
       "\n",
       "                                    in_การป้องกันไม่ให้เชื้อแพร่  \\\n",
       "in_อาการทั่วไปของโควิด                                         0   \n",
       "in_ปอดเสียหายทุกคนหรือไม่                                      0   \n",
       "in_เป็นแล้วหายเองได้หรือไม่                                    0   \n",
       "in_อาการโควิด                                                  0   \n",
       "in_ความอันตรายของโควิด                                         0   \n",
       "in_ขนาดของโควิด                                                0   \n",
       "in_จุดเริ่มต้นของโควิด                                         0   \n",
       "in_การป้องกันไม่ให้เชื้อแพร่                                   4   \n",
       "in_ช่วงอายุกับการติดโรค                                        0   \n",
       "in_โควิดกับโรคทางเดินหายใจตะวันออก                             0   \n",
       "in_การทำความสะอาดรถ                                            0   \n",
       "in_การแพร่กระจายของโควิด                                       0   \n",
       "in_อัตราตายของโรค                                              0   \n",
       "in_ข้อแนะนำในการนั่งรถสาธารณะ                                  2   \n",
       "in_แนะนำวิธีป้องกัน                                            0   \n",
       "\n",
       "                                    in_ช่วงอายุกับการติดโรค  \\\n",
       "in_อาการทั่วไปของโควิด                                    0   \n",
       "in_ปอดเสียหายทุกคนหรือไม่                                 0   \n",
       "in_เป็นแล้วหายเองได้หรือไม่                               0   \n",
       "in_อาการโควิด                                             0   \n",
       "in_ความอันตรายของโควิด                                    0   \n",
       "in_ขนาดของโควิด                                           0   \n",
       "in_จุดเริ่มต้นของโควิด                                    0   \n",
       "in_การป้องกันไม่ให้เชื้อแพร่                              0   \n",
       "in_ช่วงอายุกับการติดโรค                                   7   \n",
       "in_โควิดกับโรคทางเดินหายใจตะวันออก                        0   \n",
       "in_การทำความสะอาดรถ                                       0   \n",
       "in_การแพร่กระจายของโควิด                                  0   \n",
       "in_อัตราตายของโรค                                         0   \n",
       "in_ข้อแนะนำในการนั่งรถสาธารณะ                             0   \n",
       "in_แนะนำวิธีป้องกัน                                       0   \n",
       "\n",
       "                                    in_โควิดกับโรคทางเดินหายใจตะวันออก  \\\n",
       "in_อาการทั่วไปของโควิด                                               0   \n",
       "in_ปอดเสียหายทุกคนหรือไม่                                            0   \n",
       "in_เป็นแล้วหายเองได้หรือไม่                                          0   \n",
       "in_อาการโควิด                                                        0   \n",
       "in_ความอันตรายของโควิด                                               0   \n",
       "in_ขนาดของโควิด                                                      0   \n",
       "in_จุดเริ่มต้นของโควิด                                               0   \n",
       "in_การป้องกันไม่ให้เชื้อแพร่                                         0   \n",
       "in_ช่วงอายุกับการติดโรค                                              0   \n",
       "in_โควิดกับโรคทางเดินหายใจตะวันออก                                   3   \n",
       "in_การทำความสะอาดรถ                                                  0   \n",
       "in_การแพร่กระจายของโควิด                                             0   \n",
       "in_อัตราตายของโรค                                                    0   \n",
       "in_ข้อแนะนำในการนั่งรถสาธารณะ                                        0   \n",
       "in_แนะนำวิธีป้องกัน                                                  0   \n",
       "\n",
       "                                    in_การทำความสะอาดรถ  \\\n",
       "in_อาการทั่วไปของโควิด                                0   \n",
       "in_ปอดเสียหายทุกคนหรือไม่                             0   \n",
       "in_เป็นแล้วหายเองได้หรือไม่                           0   \n",
       "in_อาการโควิด                                         0   \n",
       "in_ความอันตรายของโควิด                                0   \n",
       "in_ขนาดของโควิด                                       0   \n",
       "in_จุดเริ่มต้นของโควิด                                0   \n",
       "in_การป้องกันไม่ให้เชื้อแพร่                          0   \n",
       "in_ช่วงอายุกับการติดโรค                               0   \n",
       "in_โควิดกับโรคทางเดินหายใจตะวันออก                    0   \n",
       "in_การทำความสะอาดรถ                                   1   \n",
       "in_การแพร่กระจายของโควิด                              0   \n",
       "in_อัตราตายของโรค                                     0   \n",
       "in_ข้อแนะนำในการนั่งรถสาธารณะ                         0   \n",
       "in_แนะนำวิธีป้องกัน                                   0   \n",
       "\n",
       "                                    in_การแพร่กระจายของโควิด  \\\n",
       "in_อาการทั่วไปของโควิด                                     0   \n",
       "in_ปอดเสียหายทุกคนหรือไม่                                  0   \n",
       "in_เป็นแล้วหายเองได้หรือไม่                                0   \n",
       "in_อาการโควิด                                              0   \n",
       "in_ความอันตรายของโควิด                                     0   \n",
       "in_ขนาดของโควิด                                            0   \n",
       "in_จุดเริ่มต้นของโควิด                                     0   \n",
       "in_การป้องกันไม่ให้เชื้อแพร่                               0   \n",
       "in_ช่วงอายุกับการติดโรค                                    0   \n",
       "in_โควิดกับโรคทางเดินหายใจตะวันออก                         0   \n",
       "in_การทำความสะอาดรถ                                        0   \n",
       "in_การแพร่กระจายของโควิด                                   2   \n",
       "in_อัตราตายของโรค                                          0   \n",
       "in_ข้อแนะนำในการนั่งรถสาธารณะ                              0   \n",
       "in_แนะนำวิธีป้องกัน                                        0   \n",
       "\n",
       "                                    in_อัตราตายของโรค  \\\n",
       "in_อาการทั่วไปของโควิด                              0   \n",
       "in_ปอดเสียหายทุกคนหรือไม่                           0   \n",
       "in_เป็นแล้วหายเองได้หรือไม่                         0   \n",
       "in_อาการโควิด                                       0   \n",
       "in_ความอันตรายของโควิด                              0   \n",
       "in_ขนาดของโควิด                                     0   \n",
       "in_จุดเริ่มต้นของโควิด                              0   \n",
       "in_การป้องกันไม่ให้เชื้อแพร่                        0   \n",
       "in_ช่วงอายุกับการติดโรค                             0   \n",
       "in_โควิดกับโรคทางเดินหายใจตะวันออก                  0   \n",
       "in_การทำความสะอาดรถ                                 0   \n",
       "in_การแพร่กระจายของโควิด                            0   \n",
       "in_อัตราตายของโรค                                   6   \n",
       "in_ข้อแนะนำในการนั่งรถสาธารณะ                       0   \n",
       "in_แนะนำวิธีป้องกัน                                 0   \n",
       "\n",
       "                                    in_ข้อแนะนำในการนั่งรถสาธารณะ  \\\n",
       "in_อาการทั่วไปของโควิด                                          0   \n",
       "in_ปอดเสียหายทุกคนหรือไม่                                       0   \n",
       "in_เป็นแล้วหายเองได้หรือไม่                                     0   \n",
       "in_อาการโควิด                                                   0   \n",
       "in_ความอันตรายของโควิด                                          0   \n",
       "in_ขนาดของโควิด                                                 0   \n",
       "in_จุดเริ่มต้นของโควิด                                          0   \n",
       "in_การป้องกันไม่ให้เชื้อแพร่                                    0   \n",
       "in_ช่วงอายุกับการติดโรค                                         0   \n",
       "in_โควิดกับโรคทางเดินหายใจตะวันออก                              0   \n",
       "in_การทำความสะอาดรถ                                             0   \n",
       "in_การแพร่กระจายของโควิด                                        0   \n",
       "in_อัตราตายของโรค                                               0   \n",
       "in_ข้อแนะนำในการนั่งรถสาธารณะ                                   2   \n",
       "in_แนะนำวิธีป้องกัน                                             0   \n",
       "\n",
       "                                    in_แนะนำวิธีป้องกัน  \n",
       "in_อาการทั่วไปของโควิด                                0  \n",
       "in_ปอดเสียหายทุกคนหรือไม่                             0  \n",
       "in_เป็นแล้วหายเองได้หรือไม่                           0  \n",
       "in_อาการโควิด                                         0  \n",
       "in_ความอันตรายของโควิด                                0  \n",
       "in_ขนาดของโควิด                                       0  \n",
       "in_จุดเริ่มต้นของโควิด                                0  \n",
       "in_การป้องกันไม่ให้เชื้อแพร่                          1  \n",
       "in_ช่วงอายุกับการติดโรค                               0  \n",
       "in_โควิดกับโรคทางเดินหายใจตะวันออก                    0  \n",
       "in_การทำความสะอาดรถ                                   0  \n",
       "in_การแพร่กระจายของโควิด                              0  \n",
       "in_อัตราตายของโรค                                     0  \n",
       "in_ข้อแนะนำในการนั่งรถสาธารณะ                         0  \n",
       "in_แนะนำวิธีป้องกัน                                   2  "
      ]
     },
     "execution_count": 27,
     "metadata": {},
     "output_type": "execute_result"
    }
   ],
   "source": [
    "from sklearn.metrics import classification_report, accuracy_score, confusion_matrix\n",
    "clslist = list(set(telabel))\n",
    "res = confusion_matrix(telabel,pred,labels=clslist)\n",
    "cf = pd.DataFrame(data=res,columns=clslist,index=clslist)\n",
    "cf"
   ]
  },
  {
   "cell_type": "code",
   "execution_count": 28,
   "metadata": {
    "colab": {},
    "colab_type": "code",
    "id": "uuWxK745VCkP"
   },
   "outputs": [],
   "source": [
    "def getintent(keyword):\n",
    "    keyword = [keyword]\n",
    "    feat = vectorizer.transform(keyword)\n",
    "    feat_norm = normalize(feat)\n",
    "    pred = model.predict(feat_norm)[0]\n",
    "    return pred"
   ]
  },
  {
   "cell_type": "code",
   "execution_count": 29,
   "metadata": {
    "colab": {
     "base_uri": "https://localhost:8080/",
     "height": 34
    },
    "colab_type": "code",
    "id": "mN0WaNHEXsr9",
    "outputId": "511cebdc-2b60-4b9d-9259-af1464a48122"
   },
   "outputs": [
    {
     "data": {
      "text/plain": [
       "'in_แนะนำวิธีป้องกัน'"
      ]
     },
     "execution_count": 29,
     "metadata": {},
     "output_type": "execute_result"
    }
   ],
   "source": [
    "getintent('แนะนำการป้องกันหน่อย')"
   ]
  },
  {
   "cell_type": "code",
   "execution_count": 0,
   "metadata": {
    "colab": {},
    "colab_type": "code",
    "id": "JHBqdLaeVfcB"
   },
   "outputs": [],
   "source": [
    "def getresult(keyword):\n",
    "  pred = getintent(keyword)\n",
    "  result = ansdat[ansdat['Intent'] == pred]\n",
    "  textresult = result\n",
    "  textresult = textresult['Answer'].values+'\\n'+textresult['Source'].values\n",
    "  textresult = textresult[0]\n",
    "  return textresult"
   ]
  },
  {
   "cell_type": "code",
   "execution_count": 0,
   "metadata": {
    "colab": {
     "base_uri": "https://localhost:8080/",
     "height": 54
    },
    "colab_type": "code",
    "id": "gUgHUu7hWS_B",
    "outputId": "3a4c47ef-ac53-47fb-c79f-8c8f771ab3f3"
   },
   "outputs": [
    {
     "data": {
      "text/plain": [
       "'หลีกเลี่ยงการสัมผัสใกล้ชิดผู้มีอาการป่วย รักษาระยะห่างอย่างน้อย 1 เมตร หลีกเลี่ยงการสัมผัสบริเวณตา จมูกและปาก โดยไม่ได้ล้างมือ ควรล้างมือบ่อยๆ ด้วยน้ำและสบู่ หรือน้ำยาแอลกอฮอล์ล้างมือ 70% หากมีไข้ ไอ หายใจลำบาก ให้ไปพบแพทย์ทันที และแจ้งประวัติการเดินทาง\\nhttps://ddc.moph.go.th/viralpneumonia/faq_more.php'"
      ]
     },
     "execution_count": 166,
     "metadata": {
      "tags": []
     },
     "output_type": "execute_result"
    }
   ],
   "source": [
    "getresult('แนะนำการป้องกันหน่อย')"
   ]
  }
 ],
 "metadata": {
  "colab": {
   "collapsed_sections": [],
   "name": "Botnoi-NLP",
   "provenance": []
  },
  "kernelspec": {
   "display_name": "Python 3",
   "language": "python",
   "name": "python3"
  },
  "language_info": {
   "codemirror_mode": {
    "name": "ipython",
    "version": 3
   },
   "file_extension": ".py",
   "mimetype": "text/x-python",
   "name": "python",
   "nbconvert_exporter": "python",
   "pygments_lexer": "ipython3",
   "version": "3.7.6"
  }
 },
 "nbformat": 4,
 "nbformat_minor": 1
}
